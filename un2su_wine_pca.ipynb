{
  "nbformat": 4,
  "nbformat_minor": 0,
  "metadata": {
    "colab": {
      "name": "un2su-wine-pca.ipynb",
      "provenance": [],
      "collapsed_sections": []
    },
    "kernelspec": {
      "name": "python3",
      "display_name": "Python 3"
    },
    "language_info": {
      "name": "python"
    }
  },
  "cells": [
    {
      "cell_type": "code",
      "metadata": {
        "id": "ib6h8eM_CIM2"
      },
      "source": [
        "# PCA - dimensionality reduction\n",
        "# then supervised\n",
        "# \n",
        "# 4ml\n",
        "#\n",
        "# jrgp\n",
        "# "
      ],
      "execution_count": null,
      "outputs": []
    },
    {
      "cell_type": "code",
      "metadata": {
        "id": "s8E2S481oqpo"
      },
      "source": [
        "#\n",
        "# 0. libs \n",
        "#\n",
        "\n",
        "import numpy as np\n",
        "import matplotlib.pyplot as plt\n",
        "import pandas as pd\n"
      ],
      "execution_count": null,
      "outputs": []
    },
    {
      "cell_type": "code",
      "metadata": {
        "id": "68l1WMnXo6b3"
      },
      "source": [
        "#\n",
        "# 1. load\n",
        "#\n",
        "\n",
        "from sklearn import datasets\n",
        "dataset = datasets.load_wine()\n"
      ],
      "execution_count": null,
      "outputs": []
    },
    {
      "cell_type": "code",
      "metadata": {
        "id": "t1dyS5vRpWhD"
      },
      "source": [
        "#\n",
        "# 2. ETL \n",
        "#\n",
        "\n",
        "X = dataset.data\n",
        "y = dataset.target"
      ],
      "execution_count": null,
      "outputs": []
    },
    {
      "cell_type": "code",
      "metadata": {
        "id": "aizz10aMq1RE"
      },
      "source": [
        "#\n",
        "# Splitting the X and Y into the\n",
        "# \n",
        "\n",
        "from sklearn.model_selection import train_test_split\n",
        "\n",
        "X_train, X_test, y_train, y_test = train_test_split(X, y, test_size = 0.2, random_state = 0)\n"
      ],
      "execution_count": null,
      "outputs": []
    },
    {
      "cell_type": "code",
      "metadata": {
        "id": "d9U6FNRbq408"
      },
      "source": [
        "#\n",
        "# 2. ETL \n",
        "#\n",
        "\n",
        "from sklearn.preprocessing import StandardScaler\n",
        "sc = StandardScaler()\n",
        "\n",
        "X_train = sc.fit_transform(X_train)\n",
        "X_test = sc.transform(X_test)\n"
      ],
      "execution_count": null,
      "outputs": []
    },
    {
      "cell_type": "code",
      "metadata": {
        "id": "brCDQJqTq6RX"
      },
      "source": [
        "#\n",
        "# 6. pca - reduce dimensionality\n",
        "#\n",
        "\n",
        "\n",
        "from sklearn.decomposition import PCA\n",
        "pca = PCA(n_components = 2)\n",
        "\n",
        "X_train = pca.fit_transform(X_train)\n",
        "X_test = pca.transform(X_test)\n",
        "\n",
        "explained_variance = pca.explained_variance_ratio_\n"
      ],
      "execution_count": null,
      "outputs": []
    },
    {
      "cell_type": "code",
      "metadata": {
        "id": "6PcqZ3Aqq8eM"
      },
      "source": [
        "#\n",
        "# 6. create Logistic Regression model\n",
        "#\n",
        "\n",
        "from sklearn.linear_model import LogisticRegression\n",
        "classifier = LogisticRegression(random_state = 0)\n",
        "\n"
      ],
      "execution_count": null,
      "outputs": []
    },
    {
      "cell_type": "code",
      "metadata": {
        "colab": {
          "base_uri": "https://localhost:8080/"
        },
        "id": "nAL3wH5kC1aQ",
        "outputId": "9694644d-d97a-4e96-cfbe-dd9752aa56d2"
      },
      "source": [
        "#\n",
        "# 6. train model\n",
        "#\n",
        "\n",
        "classifier.fit(X_train, y_train)\n"
      ],
      "execution_count": null,
      "outputs": [
        {
          "output_type": "execute_result",
          "data": {
            "text/plain": [
              "LogisticRegression(random_state=0)"
            ]
          },
          "metadata": {},
          "execution_count": 10
        }
      ]
    },
    {
      "cell_type": "code",
      "metadata": {
        "id": "HJC8Nz0crAvP"
      },
      "source": [
        "#\n",
        "# 9. predict\n",
        "#\n",
        "y_pred = classifier.predict(X_test)\n"
      ],
      "execution_count": null,
      "outputs": []
    },
    {
      "cell_type": "code",
      "metadata": {
        "id": "LZVPTjs0rDeu"
      },
      "source": [
        "#\n",
        "# 7. evaluate\n",
        "#\n",
        "\n",
        "from sklearn.metrics import confusion_matrix\n",
        "cm = confusion_matrix(y_test, y_pred)\n"
      ],
      "execution_count": null,
      "outputs": []
    },
    {
      "cell_type": "code",
      "metadata": {
        "id": "dsC01mSBbNn2"
      },
      "source": [
        "#\n",
        "# exercise for students \n",
        "# vis - confusion_matrix\n",
        "# "
      ],
      "execution_count": null,
      "outputs": []
    },
    {
      "cell_type": "code",
      "metadata": {
        "colab": {
          "base_uri": "https://localhost:8080/",
          "height": 313
        },
        "id": "dw-GtaRrrINY",
        "outputId": "134ea12a-fb56-436b-ddbe-b4251bee701d"
      },
      "source": [
        "#\n",
        "# 7. vis - predicting the training set\n",
        "#\n",
        "\n",
        "from matplotlib.colors import ListedColormap\n",
        "\n",
        "X_set, y_set = X_train, y_train\n",
        "X1, X2 = np.meshgrid(np.arange(start = X_set[:, 0].min() - 1,\n",
        "\t\t\t\t\tstop = X_set[:, 0].max() + 1, step = 0.01),\n",
        "\t\t\t\t\tnp.arange(start = X_set[:, 1].min() - 1,\n",
        "\t\t\t\t\tstop = X_set[:, 1].max() + 1, step = 0.01))\n",
        "\n",
        "plt.contourf(X1, X2, classifier.predict(np.array([X1.ravel(),\n",
        "\t\t\tX2.ravel()]).T).reshape(X1.shape), alpha = 0.75,\n",
        "\t\t\tcmap = ListedColormap(('yellow', 'white', 'aquamarine')))\n",
        "\n",
        "plt.xlim(X1.min(), X1.max())\n",
        "plt.ylim(X2.min(), X2.max())\n",
        "\n",
        "for i, j in enumerate(np.unique(y_set)):\n",
        "\tplt.scatter(X_set[y_set == j, 0], X_set[y_set == j, 1], label = j)#,c = ListedColormap(('red', 'green', 'blue'))(i))\n",
        "\n",
        "plt.title('Logistic Regression (Training set)')\n",
        "plt.xlabel('PC1') \n",
        "plt.ylabel('PC2') \n",
        "plt.legend() \n",
        "plt.show()\n",
        "print()\n"
      ],
      "execution_count": null,
      "outputs": [
        {
          "output_type": "display_data",
          "data": {
            "image/png": "[encoded data removed]",
            "text/plain": [
              "<Figure size 432x288 with 1 Axes>"
            ]
          },
          "metadata": {
            "needs_background": "light"
          }
        },
        {
          "output_type": "stream",
          "name": "stdout",
          "text": [
            "\n"
          ]
        }
      ]
    },
    {
      "cell_type": "code",
      "metadata": {
        "colab": {
          "base_uri": "https://localhost:8080/",
          "height": 295
        },
        "id": "zlMOgJqzrLoS",
        "outputId": "8603b849-7c3e-4ce3-d4d2-247f21aca7a5"
      },
      "source": [
        "#\n",
        "# 7. vis - predicting the test set\n",
        "#\n",
        "\n",
        "from matplotlib.colors import ListedColormap\n",
        "\n",
        "X_set, y_set = X_test, y_test\n",
        "\n",
        "X1, X2 = np.meshgrid(np.arange(start = X_set[:, 0].min() - 1,\n",
        "\t\t\t\t\tstop = X_set[:, 0].max() + 1, step = 0.01),\n",
        "\t\t\t\t\tnp.arange(start = X_set[:, 1].min() - 1,\n",
        "\t\t\t\t\tstop = X_set[:, 1].max() + 1, step = 0.01))\n",
        "\n",
        "plt.contourf(X1, X2, classifier.predict(np.array([X1.ravel(),\n",
        "\t\t\tX2.ravel()]).T).reshape(X1.shape), alpha = 0.75,\n",
        "\t\t\tcmap = ListedColormap(('yellow', 'white', 'aquamarine')))\n",
        "\n",
        "plt.xlim(X1.min(), X1.max())\n",
        "plt.ylim(X2.min(), X2.max())\n",
        "\n",
        "for i, j in enumerate(np.unique(y_set)):\n",
        "\tplt.scatter(X_set[y_set == j, 0], X_set[y_set == j, 1],label = j)#c = ListedColormap(('red', 'green', 'blue'))(i), \n",
        "\n",
        "plt.title('Logistic Regression (Test set)')\n",
        "plt.xlabel('PC1') \n",
        "plt.ylabel('PC2') \n",
        "plt.legend()\n",
        "plt.show()\n"
      ],
      "execution_count": null,
      "outputs": [
        {
          "output_type": "display_data",
          "data": {
            "image/png": "[encoded data removed]",
            "text/plain": [
              "<Figure size 432x288 with 1 Axes>"
            ]
          },
          "metadata": {
            "needs_background": "light"
          }
        }
      ]
    }
  ]
}